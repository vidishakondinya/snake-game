{
 "cells": [
  {
   "cell_type": "code",
   "execution_count": 4,
   "id": "b04c51b7",
   "metadata": {},
   "outputs": [
    {
     "name": "stdout",
     "output_type": "stream",
     "text": [
      "Requirement already satisfied: pygame in c:\\users\\hpbp\\anaconda3\\lib\\site-packages (2.6.1)\n",
      "Note: you may need to restart the kernel to use updated packages.\n"
     ]
    }
   ],
   "source": [
    "pip install pygame"
   ]
  },
  {
   "cell_type": "code",
   "execution_count": 10,
   "id": "ff9fab4c",
   "metadata": {},
   "outputs": [
    {
     "ename": "SystemExit",
     "evalue": "",
     "output_type": "error",
     "traceback": [
      "An exception has occurred, use %tb to see the full traceback.\n",
      "\u001b[1;31mSystemExit\u001b[0m\n"
     ]
    }
   ],
   "source": [
    "import pygame, sys, time, random\n",
    "\n",
    "# Game settings\n",
    "difficulty = 10\n",
    "frame_size = (720, 480)\n",
    "colors = {\n",
    "    'black': (0, 0, 0), 'white': (255, 255, 255),\n",
    "    'red': (255, 0, 0), 'green': (0, 255, 0)\n",
    "}\n",
    "\n",
    "# Initialize Pygame\n",
    "pygame.init()\n",
    "pygame.display.set_caption('Snake Eater')\n",
    "game_window = pygame.display.set_mode(frame_size)\n",
    "fps_controller = pygame.time.Clock()\n",
    "\n",
    "# Snake & Food\n",
    "snake = [[100, 50], [90, 50], [80, 50]]\n",
    "food = [random.randrange(0, frame_size[0] // 10) * 10, random.randrange(0, frame_size[1] // 10) * 10]\n",
    "direction = 'RIGHT'\n",
    "score = 0\n",
    "\n",
    "def game_over():\n",
    "    text('YOU DIED', colors['red'], 90, (frame_size[0]//2, frame_size[1]//4))\n",
    "    text(f'Score: {score}', colors['white'], 20, (frame_size[0]//2, frame_size[1]//1.25))\n",
    "    pygame.display.flip()\n",
    "    time.sleep(3)\n",
    "    pygame.quit()\n",
    "    sys.exit()\n",
    "\n",
    "def text(msg, color, size, pos):\n",
    "    font = pygame.font.SysFont('times new roman', size)\n",
    "    surf = font.render(msg, True, color)\n",
    "    rect = surf.get_rect(center=pos)\n",
    "    game_window.blit(surf, rect)\n",
    "\n",
    "def move():\n",
    "    global food, score\n",
    "    head = snake[0][:]\n",
    "    moves = {'UP': (0, -10), 'DOWN': (0, 10), 'LEFT': (-10, 0), 'RIGHT': (10, 0)}\n",
    "    head[0] += moves[direction][0]\n",
    "    head[1] += moves[direction][1]\n",
    "    \n",
    "    if head == food:\n",
    "        food = [random.randrange(0, frame_size[0] // 10) * 10, random.randrange(0, frame_size[1] // 10) * 10]\n",
    "        score += 1\n",
    "    else:\n",
    "        snake.pop()\n",
    "    \n",
    "    if head in snake or not (0 <= head[0] < frame_size[0] and 0 <= head[1] < frame_size[1]):\n",
    "        game_over()\n",
    "    \n",
    "    snake.insert(0, head)\n",
    "\n",
    "def draw():\n",
    "    game_window.fill(colors['black'])\n",
    "    for pos in snake:\n",
    "        pygame.draw.rect(game_window, colors['green'], (*pos, 10, 10))\n",
    "    pygame.draw.rect(game_window, colors['white'], (*food, 10, 10))\n",
    "    text(f'Score: {score}', colors['white'], 20, (70, 15))\n",
    "    pygame.display.update()\n",
    "\n",
    "# Main loop\n",
    "while True:\n",
    "    for event in pygame.event.get():\n",
    "        if event.type == pygame.QUIT:\n",
    "            pygame.quit()\n",
    "            sys.exit()\n",
    "        if event.type == pygame.KEYDOWN:\n",
    "            keys = {pygame.K_UP: 'UP', pygame.K_DOWN: 'DOWN', pygame.K_LEFT: 'LEFT', pygame.K_RIGHT: 'RIGHT'}\n",
    "            if event.key in keys and {('UP', 'DOWN'), ('LEFT', 'RIGHT')}.isdisjoint({(direction, keys[event.key])}):\n",
    "                direction = keys[event.key]\n",
    "    move()\n",
    "    draw()\n",
    "    fps_controller.tick(difficulty)\n"
   ]
  },
  {
   "cell_type": "code",
   "execution_count": null,
   "id": "1dc5d844",
   "metadata": {},
   "outputs": [],
   "source": []
  }
 ],
 "metadata": {
  "kernelspec": {
   "display_name": "Python 3 (ipykernel)",
   "language": "python",
   "name": "python3"
  },
  "language_info": {
   "codemirror_mode": {
    "name": "ipython",
    "version": 3
   },
   "file_extension": ".py",
   "mimetype": "text/x-python",
   "name": "python",
   "nbconvert_exporter": "python",
   "pygments_lexer": "ipython3",
   "version": "3.11.5"
  }
 },
 "nbformat": 4,
 "nbformat_minor": 5
}
